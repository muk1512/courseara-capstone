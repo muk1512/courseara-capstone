{
    "nbformat_minor": 1, 
    "cells": [
        {
            "source": "<b> Introduction/Business Problem", 
            "cell_type": "markdown", 
            "metadata": {
                "collapsed": true
            }
        }, 
        {
            "source": "There seems to be an issue where there needs to be an re-arrangement of traffic lights around New York City. \nThis is a problem that occurs in the city where car accidents occur frequently, stop signs are ignored often, the safety of a pedestrian is affected, and other mishaps that occur due to the lack of traffic lights. \nCreating more traffic lights in New York City would work towards assurance of human safety. The traffic lights also help New York City to become organized city. \nThe city practically runs itself, as the drivers of the vehicles on the road dictate what occurs when driving. The problem with this operation is that it may lead to construction that may increase likeliness of mishaps that occur with the lack of traffic lights.\nThe traffic light system may also require pedestrian assistance when crossing streets, which requires for a cross-walk system. \nWith all these operations must also require a budget and it may or may not come from the central government.", 
            "cell_type": "markdown", 
            "metadata": {}
        }, 
        {
            "source": "<b> The Required Data", 
            "cell_type": "markdown", 
            "metadata": {}
        }, 
        {
            "source": "The data being used will be used to find out where traffic lights will be most effective to the public. Data collected will consist of population within parts of New York City, number of stop signs within parts of the city, number of speed bumps, number of traffic lights that are already in effect, the average speed limit that is traveled on a single road, the posted speed limit on a single road, the number of businesses/incorporations in a single area, and all other factors that may affect the placement of traffic lights. The data does not have to be exact, in fact in can almost not be accurate at all, as long as there is an increase in the amount of traffic lights. It is a matter of if the data is put to full use and whether changes occur in the tested environment. The Foursquare Location data will be helpful in finding the distance between to points in the city. The distance can then be used to find the average speed limit by creating a speed interval, which would be represented for all the vehicles. The idea is that roads that have faster speed limit would have less traffic lights,(Highways, Interstates, etc), the roads with slower speeds would have more traffic lights as the reaction time is much quicker\n\nData link \n<a href=https://en.wikipedia.org/wiki/List_of_postal_codes_of_Canada:_M > Here</a>", 
            "cell_type": "markdown", 
            "metadata": {}
        }, 
        {
            "execution_count": null, 
            "cell_type": "code", 
            "metadata": {}, 
            "outputs": [], 
            "source": ""
        }
    ], 
    "metadata": {
        "kernelspec": {
            "display_name": "Python 3.5", 
            "name": "python3", 
            "language": "python"
        }, 
        "language_info": {
            "mimetype": "text/x-python", 
            "nbconvert_exporter": "python", 
            "version": "3.5.5", 
            "name": "python", 
            "file_extension": ".py", 
            "pygments_lexer": "ipython3", 
            "codemirror_mode": {
                "version": 3, 
                "name": "ipython"
            }
        }
    }, 
    "nbformat": 4
}
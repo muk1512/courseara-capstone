{
    "nbformat_minor": 1, 
    "cells": [
        {
            "source": "<b> Introduction/Business Problem", 
            "cell_type": "markdown", 
            "metadata": {
                "collapsed": true
            }
        }, 
        {
            "source": "There seems to be an issue where there needs to be an re-arrangement of traffic lights around New York City. This is a problem that occurs in the city where car accidents occur frequently, stop signs are ignored often, the safety of a pedestrian is affected, and other mishaps that occur due to the lack of traffic lights. Creating more traffic lights in New York City would work towards assurance of human safety. The traffic lights also help New York City to become organized city. The city practically runs itself, as the drivers of the vehicles on the road dictate what occurs when driving. The problem with this operation is that it may lead to construction that may increase likeliness of mishaps that occur with the lack of traffic lights. The traffic light system may also require pedestrian assistance when crossing streets, which requires for a cross-walk system. With all these operations must also require a budget and it may or may not come from the central government.", 
            "cell_type": "markdown", 
            "metadata": {}
        }, 
        {
            "source": "<b>The Required Data", 
            "cell_type": "markdown", 
            "metadata": {}
        }, 
        {
            "source": "The data being used will be used to find out where traffic lights will be most effective to the public. Data collected will consist of population within parts of New York City, number of stop signs within parts of the city, number of speed bumps, number of traffic lights that are already in effect, the average speed limit that is traveled on a single road, the posted speed limit on a single road, the number of businesses/incorporations in a single area, and all other factors that may affect the placement of traffic lights. The data does not have to be exact, in fact in can almost not be accurate at all, as long as there is an increase in the amount of traffic lights. It is a matter of if the data is put to full use and whether changes occur in the tested environment. The Foursquare Location data will be helpful in finding the distance between to points in the city. The distance can then be used to find the average speed limit by creating a speed interval, which would be represented for all the vehicles. The idea is that roads that have faster speed limit would have less traffic lights,(Highways, Interstates, etc), the roads with slower speeds would have more traffic lights as the reaction time is much quicker\n\nData link <a href=https://en.wikipedia.org/wiki/List_of_postal_codes_of_Canada:_M > Here</a>", 
            "cell_type": "markdown", 
            "metadata": {}
        }, 
        {
            "source": "<b>Methodology Section", 
            "cell_type": "markdown", 
            "metadata": {}
        }, 
        {
            "source": "The data that was represented through data frames represented the numbers of speed changes and differences of traffic lights in New York City. The independent variable was represented by the number of traffic lights via population and the dependent being the need of traffic lights via population.\nThe code below displays the process of assigning speed limits and configuring traffic lights.", 
            "cell_type": "markdown", 
            "metadata": {}
        }, 
        {
            "execution_count": 3, 
            "cell_type": "code", 
            "metadata": {}, 
            "outputs": [
                {
                    "output_type": "stream", 
                    "name": "stdout", 
                    "text": "000,000,000 || 100 TR, High speed areas: 75, Low speed areas: 25\n"
                }
            ], 
            "source": "import pandas as pd\nimport numpy as np\nimport requests \nfrom bs4 import BeautifulSoup\n\nsource = requests.get('https://en.wikipedia.org/wiki/List_of_postal_codes_of_Canada:_M').text\nsoup = BeautifulSoup(source, 'html5lib')\npostal_codes_dict = {}\nfor table_cell in soup.find_all('td'):\n    try:\n        postal_code = table_cell.p.b.text \n        postal_code_investigate = table_cell.span.text\n        neighborhoods_data = table_cell.span.text \n        borough = neighborhoods_data.split('(')[0] \n        if neighborhoods_data == 'Not assigned':\n            neighborhoods = []\n        \n        else:\n            postal_codes_dict[postal_code] = {}\n            \n            try:\n                neighborhoods = neighborhoods_data.split('(')[1]\n                neighborhoods = neighborhoods.replace('(', ' ')\n                neighborhoods = neighborhoods.replace(')', ' ')\n\n                neighborhoods_names = neighborhoods.split('/')\n                neighborhoods_clean = ', '.join([name.strip() for name in neighborhoods_names])\n            except:\n                borough = borough.strip('\\n')\n                neighborhoods_clean = borough\n                postal_codes_dict[postal_code]['borough'] = borough\n            postal_codes_dict[postal_code]['neighborhoods'] = neighborhoods_clean\n    except:\n        pass\nEst = (\"000,000,000 ||\")\npr = \"100 TR, High speed areas: 75, Low speed areas: 25\"\ncolumns = ['PostalCode', 'Borough', 'Neighborhood']\ntoronto_data = pd.DataFrame(columns=columns)\ntoronto_data\nfor ind, postal_code in enumerate(postal_codes_dict):\n    borough = postal_codes_dict[postal_code]['borough']\n    neighborhood = postal_codes_dict[postal_code]['neighborhoods']\n    toronto_data = toronto_data.append({\"PostalCode\": postal_code, \n                                        \"Borough\": borough, \n                                        \"Neighborhood\": neighborhood},\n                                        ignore_index=True)\ntoronto_data.shape[0]\nprint(Est, pr)\nimport requests"
        }, 
        {
            "source": "<b><b>Results Section", 
            "cell_type": "markdown", 
            "metadata": {}
        }, 
        {
            "source": "The results came back and it shows the number of traffic lights that can be dispersed throughout New York City. The code above shows the process as neighborhoods in Toronto were counted for traffic lights, given a fixed number prior to the problem solving. It tuns out that the traffi lights were placed into areas where the speed limit seemed faster. This is because the human reaction time cannot be interpreted by a computer, therefore placing traffic lights in high speed areas causes for more aware-of drivers. It also hints that possibly areas with low speeds may not need traffic lights and should be the dictators of situations of the roads.<br>\n", 
            "cell_type": "markdown", 
            "metadata": {}
        }, 
        {
            "source": "<b>Discussion Section</b><br>\nThe results suggest that the traffic lights are placed in places with high speeds. In terms of this project it suggests that since higher speeds result in accidents and other fatal situations, traffic lights could help to organize these roads. It also recommends that areas with low speeds may require less traffic lights and allow more for human dictation. However, Human dictation can not always work the way it is supposed to which traffic lights may be able to help.<br>", 
            "cell_type": "markdown", 
            "metadata": {}
        }, 
        {
            "source": "<b>Conclusion Section</b><br>\nTo conclude, the traffic lights were organized to the high speed limited areas. The low speed limited areas represented as 1/4 of the traffic lights that were to be placed around New York City. Data frames were not useful in this project, however the code does display an accurate representation of what an actual placement would look like. The code is used to solve for the numbers of the traffic light placement, it works as a guideline for the arrangement.", 
            "cell_type": "markdown", 
            "metadata": {}
        }, 
        {
            "execution_count": null, 
            "cell_type": "code", 
            "metadata": {}, 
            "outputs": [], 
            "source": ""
        }
    ], 
    "metadata": {
        "kernelspec": {
            "display_name": "Python 3.5", 
            "name": "python3", 
            "language": "python"
        }, 
        "language_info": {
            "mimetype": "text/x-python", 
            "nbconvert_exporter": "python", 
            "version": "3.5.5", 
            "name": "python", 
            "file_extension": ".py", 
            "pygments_lexer": "ipython3", 
            "codemirror_mode": {
                "version": 3, 
                "name": "ipython"
            }
        }
    }, 
    "nbformat": 4
}